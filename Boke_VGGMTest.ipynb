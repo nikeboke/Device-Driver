{
  "nbformat": 4,
  "nbformat_minor": 0,
  "metadata": {
    "accelerator": "GPU",
    "colab": {
      "provenance": [],
      "include_colab_link": true
    },
    "kernelspec": {
      "display_name": "Python 3",
      "name": "python3"
    }
  },
  "cells": [
    {
      "cell_type": "markdown",
      "metadata": {
        "id": "view-in-github",
        "colab_type": "text"
      },
      "source": [
        "<a href=\"https://colab.research.google.com/github/nikeboke/Device-Driver/blob/main/Boke_VGGMTest.ipynb\" target=\"_parent\"><img src=\"https://colab.research.google.com/assets/colab-badge.svg\" alt=\"Open In Colab\"/></a>"
      ]
    },
    {
      "cell_type": "code",
      "metadata": {
        "id": "iitdVkipsWFo"
      },
      "source": [
        "import pandas as pd\n",
        "import numpy as np\n",
        "import os\n",
        "import tensorflow as tf\n",
        "import cv2\n",
        "from tensorflow import keras\n",
        "from  matplotlib import pyplot as plt\n",
        "import matplotlib.image as mpimg\n",
        "import librosa\n",
        "from sklearn import metrics\n",
        "from datetime import datetime\n",
        "from os import mkdir\n",
        "import pytz\n",
        "import skimage\n",
        "from skimage import io\n",
        "from sklearn.model_selection import train_test_split\n",
        "%matplotlib inline"
      ],
      "execution_count": null,
      "outputs": []
    },
    {
      "cell_type": "code",
      "metadata": {
        "colab": {
          "base_uri": "https://localhost:8080/"
        },
        "id": "ILF983oJlD1S",
        "outputId": "893d98de-bbdf-4984-b819-e80b7ed85969"
      },
      "source": [
        "from google.colab import drive\n",
        "drive.mount(\"/content/drive\")"
      ],
      "execution_count": null,
      "outputs": [
        {
          "output_type": "stream",
          "text": [
            "Mounted at /content/drive\n"
          ],
          "name": "stdout"
        }
      ]
    },
    {
      "cell_type": "code",
      "metadata": {
        "id": "XgG0LnZ-n9ub"
      },
      "source": [
        "v3path = \"/content/drive/My Drive/Smart Home/Dataset Collection/EkinNRTakes/\"\n",
        "images_path = \"/content/drive/My Drive/Smart Home/Dataset Collection/DatasetV3Images\"\n",
        "gestures = [\"Tap\", \"Swipe Right-Left\", \"Swipe Right\", \"Scroll Down\", \"Circle\"]\n",
        "dirs = os.listdir(v3path)\n",
        "enum = {g:gestures.index(g) for g in gestures}"
      ],
      "execution_count": null,
      "outputs": []
    },
    {
      "cell_type": "code",
      "metadata": {
        "id": "7CpQRuUJC6PS"
      },
      "source": [
        "HOP_LENGTH = 512\n",
        "N_MELS = 128\n",
        "TIME_STEPS = 512\n",
        "IMAGE_X = 0\n",
        "IMAGE_Y = N_MELS"
      ],
      "execution_count": null,
      "outputs": []
    },
    {
      "cell_type": "code",
      "metadata": {
        "id": "_EH3iqGAtsPt"
      },
      "source": [
        "def scale_minmax(X, min=0.0, max=1.0):\n",
        "    X_std = (X - X.min()) / (X.max() - X.min())\n",
        "    X_scaled = X_std * (max - min) + min\n",
        "    return X_scaled\n"
      ],
      "execution_count": null,
      "outputs": []
    },
    {
      "cell_type": "code",
      "metadata": {
        "id": "6R2aGaw9t5b3"
      },
      "source": [
        "def spectrogram_image(y, sr, out, hop_length, n_mels):\n",
        "    # use log-melspectrogram\n",
        "    mels = librosa.feature.melspectrogram(y=y, sr=sr, n_mels=n_mels,\n",
        "                                            n_fft=hop_length*2, hop_length=hop_length)\n",
        "    mels = np.log(mels + 1e-9) # add small number to avoid log(0)\n",
        "\n",
        "    # min-max scale to fit inside 8-bit range\n",
        "    img = scale_minmax(mels, 0, 255).astype(np.uint8)\n",
        "    img = np.flip(img, axis=0) # put low frequencies at the bottom in image\n",
        "    img = 255-img # invert. make black==more energy\n",
        "\n",
        "    IMAGE_X = img.shape[1]\n",
        "    IMAGE_Y = img.shape[0]\n",
        "\n",
        "    # save as PNG\n",
        "    skimage.io.imsave(out, img)\n",
        "    #fig, ax = plt.subplots()\n",
        "    #im = ax.imshow(img)"
      ],
      "execution_count": null,
      "outputs": []
    },
    {
      "cell_type": "code",
      "metadata": {
        "id": "YD_ThZGb-aho"
      },
      "source": [
        "# this part generates new timestamped folders for recordings\n",
        "now = datetime.now()\n",
        "timezone = pytz.timezone('Turkey')\n",
        "now = now.astimezone(timezone)\n",
        "dt_string = now.strftime(\"%d-%m-%Y %H:%M:%S\")\n",
        "count = 0\n",
        "for f in os.listdir(images_path):\n",
        "    count = max(count, int(f[0]))\n",
        "new_dir = images_path + \"/\" + str(count+1) + \" - Created at \" + dt_string\n",
        "os.mkdir(new_dir)\n",
        "for g in gestures:\n",
        "  os.mkdir(new_dir + \"/\" + g)\n",
        "\n",
        "os.chdir(new_dir)"
      ],
      "execution_count": null,
      "outputs": []
    },
    {
      "cell_type": "code",
      "metadata": {
        "colab": {
          "base_uri": "https://localhost:8080/"
        },
        "id": "0LErOYEBbZQx",
        "outputId": "8c1fc9cf-bf88-4a77-8fa4-bf9799bdf669"
      },
      "source": [
        "for dir in dirs:\n",
        "  folder_path = v3path + \"/\" + dir\n",
        "  recordings = os.listdir(folder_path)\n",
        "  for recording in recordings:\n",
        "    rec_path = folder_path + \"/\" + recording\n",
        "\n",
        "    # settings\n",
        "    hop_length = HOP_LENGTH # number of samples per time-step in spectrogram\n",
        "    n_mels = N_MELS # number of bins in spectrogram. Height of image\n",
        "    time_steps = TIME_STEPS # number of time-steps. Width of image\n",
        "    # Keep halving the values until it works!\n",
        "\n",
        "\n",
        "    # load audio.\n",
        "    y, sr = librosa.load(rec_path, offset=0.5, duration=10.0, sr=44100)\n",
        "\n",
        "    out_dir = os.getcwd() + \"/\" + dir\n",
        "    if not os.path.exists(out_dir):\n",
        "      os.makedirs(out_dir)\n",
        "    out = out_dir + \"/\" + recording[:-4] + \".png\"\n",
        "\n",
        "    # extract a fixed length window\n",
        "    start_sample = 0 # starting at beginning\n",
        "    length_samples = time_steps*hop_length\n",
        "    window = y[start_sample:start_sample+length_samples]\n",
        "\n",
        "    # convert to PNG\n",
        "    spectrogram_image(window, sr=sr, out=out, hop_length=hop_length, n_mels=n_mels)\n",
        "    print('wrote file', out)"
      ],
      "execution_count": null,
      "outputs": [
        {
          "output_type": "stream",
          "text": [
            "wrote file /content/Swipe Right/ekin0 SR1.png\n",
            "wrote file /content/Swipe Right/ekin0 SR2.png\n",
            "wrote file /content/Swipe Right/ekin3 SR1.png\n",
            "wrote file /content/Swipe Right/ekin3 SR2.png\n",
            "wrote file /content/Swipe Right/ekin4 SR1.png\n",
            "wrote file /content/Swipe Right/ekin4 SR2.png\n",
            "wrote file /content/Swipe Right/ekin5 SR1.png\n",
            "wrote file /content/Swipe Right/ekin5 SR2.png\n",
            "wrote file /content/Swipe Right/ekin6 SR1.png\n",
            "wrote file /content/Swipe Right/ekin6 SR2.png\n",
            "wrote file /content/Swipe Right/ekin7 SR1.png\n",
            "wrote file /content/Swipe Right/ekin7 SR2.png\n",
            "wrote file /content/Swipe Right/ekin8 SR1.png\n",
            "wrote file /content/Swipe Right/ekin8 SR2.png\n",
            "wrote file /content/Swipe Right/ekin9 SR1.png\n",
            "wrote file /content/Swipe Right/ekin9 SR2.png\n",
            "wrote file /content/Swipe Right/ekin10 SR1.png\n",
            "wrote file /content/Swipe Right/ekin10 SR2.png\n",
            "wrote file /content/Swipe Right/ekin11 SR1.png\n",
            "wrote file /content/Swipe Right/ekin11 SR2.png\n",
            "wrote file /content/Swipe Right/ekin12 SR1.png\n",
            "wrote file /content/Swipe Right/ekin12 SR2.png\n",
            "wrote file /content/Swipe Right/ekin14 SR1.png\n",
            "wrote file /content/Swipe Right/ekin14 SR2.png\n",
            "wrote file /content/Swipe Right/ekin15 SR1.png\n",
            "wrote file /content/Swipe Right/ekin15 SR2.png\n",
            "wrote file /content/Swipe Right/ekin16 SR1.png\n",
            "wrote file /content/Swipe Right/ekin16 SR2.png\n",
            "wrote file /content/Swipe Right/ekin17 SR1.png\n",
            "wrote file /content/Swipe Right/ekin17 SR2.png\n",
            "wrote file /content/Swipe Right/ekin18 SR1.png\n",
            "wrote file /content/Swipe Right/ekin18 SR2.png\n",
            "wrote file /content/Swipe Right/ekin19 SR1.png\n",
            "wrote file /content/Swipe Right/ekin19 SR2.png\n",
            "wrote file /content/Swipe Right/ekin20 SR1.png\n",
            "wrote file /content/Swipe Right/ekin20 SR2.png\n",
            "wrote file /content/Swipe Right/ekin21 SR1.png\n",
            "wrote file /content/Swipe Right/ekin21 SR2.png\n",
            "wrote file /content/Swipe Right/ekin22 SR1.png\n",
            "wrote file /content/Swipe Right/ekin22 SR2.png\n",
            "wrote file /content/Swipe Right/ekin23 SR1.png\n",
            "wrote file /content/Swipe Right/ekin23 SR2.png\n",
            "wrote file /content/Swipe Right/ekin25 SR1.png\n",
            "wrote file /content/Swipe Right/ekin25 SR2.png\n",
            "wrote file /content/Swipe Right/ekin26 SR1.png\n",
            "wrote file /content/Swipe Right/ekin26 SR2.png\n",
            "wrote file /content/Swipe Right/ekin29 SR1.png\n",
            "wrote file /content/Swipe Right/ekin29 SR2.png\n",
            "wrote file /content/Swipe Right/ekin30 SR1.png\n",
            "wrote file /content/Swipe Right/ekin30 SR2.png\n",
            "wrote file /content/Swipe Right/ekin31 SR1.png\n",
            "wrote file /content/Swipe Right/ekin31 SR2.png\n",
            "wrote file /content/Swipe Right/ekin32 SR1.png\n",
            "wrote file /content/Swipe Right/ekin32 SR2.png\n",
            "wrote file /content/Swipe Right/ekin33 SR1.png\n",
            "wrote file /content/Swipe Right/ekin33 SR2.png\n",
            "wrote file /content/Swipe Right/ekin34 SR1.png\n",
            "wrote file /content/Swipe Right/ekin34 SR2.png\n",
            "wrote file /content/Swipe Right/ekin35 SR1.png\n",
            "wrote file /content/Swipe Right/ekin35 SR2.png\n",
            "wrote file /content/Swipe Right/ekin28 SR2.png\n",
            "wrote file /content/Swipe Right/ekin36 SR1.png\n",
            "wrote file /content/Swipe Right/ekin36 SR2.png\n",
            "wrote file /content/Swipe Right/ekin37 SR1.png\n",
            "wrote file /content/Swipe Right/ekin37 SR2.png\n",
            "wrote file /content/Swipe Right/ekin38 SR1.png\n",
            "wrote file /content/Swipe Right/ekin38 SR2.png\n",
            "wrote file /content/Swipe Right/ekin39 SR1.png\n",
            "wrote file /content/Swipe Right/ekin39 SR2.png\n",
            "wrote file /content/Swipe Right/ekin40 SR1.png\n",
            "wrote file /content/Swipe Right/ekin40 SR2.png\n",
            "wrote file /content/Swipe Right/ekin41 SR1.png\n",
            "wrote file /content/Swipe Right/ekin41 SR2.png\n",
            "wrote file /content/Swipe Right/ekin42 SR1.png\n",
            "wrote file /content/Swipe Right/ekin42 SR2.png\n",
            "wrote file /content/Swipe Right/ekin43 SR1.png\n",
            "wrote file /content/Swipe Right/ekin43 SR2.png\n",
            "wrote file /content/Swipe Right/ekin44 SR1.png\n",
            "wrote file /content/Swipe Right/ekin44 SR2.png\n",
            "wrote file /content/Swipe Right/ekin45 SR1.png\n",
            "wrote file /content/Swipe Right/ekin45 SR2.png\n",
            "wrote file /content/Swipe Right/ekin46 SR1.png\n",
            "wrote file /content/Swipe Right/ekin46 SR2.png\n",
            "wrote file /content/Swipe Right-Left/ekin0 SRL1.png\n",
            "wrote file /content/Swipe Right-Left/ekin0 SRL2.png\n",
            "wrote file /content/Swipe Right-Left/ekin3 SRL1.png\n",
            "wrote file /content/Swipe Right-Left/ekin3 SRL2.png\n",
            "wrote file /content/Swipe Right-Left/ekin4 SRL1.png\n",
            "wrote file /content/Swipe Right-Left/ekin4 SRL2.png\n",
            "wrote file /content/Swipe Right-Left/ekin5 SRL1.png\n",
            "wrote file /content/Swipe Right-Left/ekin5 SRL2.png\n",
            "wrote file /content/Swipe Right-Left/ekin6 SRL1.png\n",
            "wrote file /content/Swipe Right-Left/ekin6 SRL2.png\n",
            "wrote file /content/Swipe Right-Left/ekin7 SRL1.png\n",
            "wrote file /content/Swipe Right-Left/ekin7 SRL2.png\n",
            "wrote file /content/Swipe Right-Left/ekin8 SRL1.png\n",
            "wrote file /content/Swipe Right-Left/ekin8 SRL2.png\n",
            "wrote file /content/Swipe Right-Left/ekin9 SRL1.png\n",
            "wrote file /content/Swipe Right-Left/ekin9 SRL2.png\n",
            "wrote file /content/Swipe Right-Left/ekin10 SRL1.png\n",
            "wrote file /content/Swipe Right-Left/ekin10 SRL2.png\n",
            "wrote file /content/Swipe Right-Left/ekin11 SRL1.png\n",
            "wrote file /content/Swipe Right-Left/ekin11 SRL2.png\n",
            "wrote file /content/Swipe Right-Left/ekin12 SRL1.png\n",
            "wrote file /content/Swipe Right-Left/ekin12 SRL2.png\n",
            "wrote file /content/Swipe Right-Left/ekin14 SRL1.png\n",
            "wrote file /content/Swipe Right-Left/ekin14 SRL2.png\n",
            "wrote file /content/Swipe Right-Left/ekin15 SRL1.png\n",
            "wrote file /content/Swipe Right-Left/ekin15 SRL2.png\n",
            "wrote file /content/Swipe Right-Left/ekin16 SRL1.png\n",
            "wrote file /content/Swipe Right-Left/ekin16 SRL2.png\n",
            "wrote file /content/Swipe Right-Left/ekin17 SRL1.png\n",
            "wrote file /content/Swipe Right-Left/ekin17 SRL2.png\n",
            "wrote file /content/Swipe Right-Left/ekin18 SRL1.png\n",
            "wrote file /content/Swipe Right-Left/ekin18 SRL2.png\n",
            "wrote file /content/Swipe Right-Left/ekin19 SRL1.png\n",
            "wrote file /content/Swipe Right-Left/ekin19 SRL2.png\n",
            "wrote file /content/Swipe Right-Left/ekin20 SRL1.png\n",
            "wrote file /content/Swipe Right-Left/ekin20 SRL2.png\n",
            "wrote file /content/Swipe Right-Left/ekin21 SRL1.png\n",
            "wrote file /content/Swipe Right-Left/ekin21 SRL2.png\n",
            "wrote file /content/Swipe Right-Left/ekin22 SRL1.png\n",
            "wrote file /content/Swipe Right-Left/ekin22 SRL2.png\n",
            "wrote file /content/Swipe Right-Left/ekin23 SRL1.png\n",
            "wrote file /content/Swipe Right-Left/ekin23 SRL2.png\n",
            "wrote file /content/Swipe Right-Left/ekin25 SRL1.png\n",
            "wrote file /content/Swipe Right-Left/ekin25 SRL2.png\n",
            "wrote file /content/Swipe Right-Left/ekin26 SRL1.png\n",
            "wrote file /content/Swipe Right-Left/ekin26 SRL2.png\n",
            "wrote file /content/Swipe Right-Left/ekin29 SRL1.png\n",
            "wrote file /content/Swipe Right-Left/ekin29 SRL2.png\n",
            "wrote file /content/Swipe Right-Left/ekin30 SRL1.png\n",
            "wrote file /content/Swipe Right-Left/ekin30 SRL2.png\n",
            "wrote file /content/Swipe Right-Left/ekin31 SRL1.png\n",
            "wrote file /content/Swipe Right-Left/ekin31 SRL2.png\n",
            "wrote file /content/Swipe Right-Left/ekin32 SRL1.png\n",
            "wrote file /content/Swipe Right-Left/ekin32 SRL2.png\n",
            "wrote file /content/Swipe Right-Left/ekin33 SRL1.png\n",
            "wrote file /content/Swipe Right-Left/ekin33 SRL2.png\n",
            "wrote file /content/Swipe Right-Left/ekin34 SRL1.png\n",
            "wrote file /content/Swipe Right-Left/ekin34 SRL2.png\n",
            "wrote file /content/Swipe Right-Left/ekin35 SRL1.png\n",
            "wrote file /content/Swipe Right-Left/ekin35 SRL2.png\n",
            "wrote file /content/Swipe Right-Left/ekin28 SRL2.png\n",
            "wrote file /content/Swipe Right-Left/ekin28 SRL1.png\n",
            "wrote file /content/Swipe Right-Left/ekin36 SRL1.png\n",
            "wrote file /content/Swipe Right-Left/ekin36 SRL2.png\n",
            "wrote file /content/Swipe Right-Left/ekin37 SRL1.png\n",
            "wrote file /content/Swipe Right-Left/ekin37 SRL2.png\n",
            "wrote file /content/Swipe Right-Left/ekin38 SRL1.png\n",
            "wrote file /content/Swipe Right-Left/ekin38 SRL2.png\n",
            "wrote file /content/Swipe Right-Left/ekin39 SRL1.png\n",
            "wrote file /content/Swipe Right-Left/ekin39 SRL2.png\n",
            "wrote file /content/Swipe Right-Left/ekin40 SRL1.png\n",
            "wrote file /content/Swipe Right-Left/ekin40 SRL2.png\n",
            "wrote file /content/Swipe Right-Left/ekin41 SRL1.png\n",
            "wrote file /content/Swipe Right-Left/ekin41 SRL2.png\n",
            "wrote file /content/Swipe Right-Left/ekin42 SRL1.png\n",
            "wrote file /content/Swipe Right-Left/ekin42 SRL2.png\n",
            "wrote file /content/Swipe Right-Left/ekin43 SRL1.png\n",
            "wrote file /content/Swipe Right-Left/ekin43 SRL2.png\n",
            "wrote file /content/Swipe Right-Left/ekin44 SRL1.png\n",
            "wrote file /content/Swipe Right-Left/ekin44 SRL2.png\n",
            "wrote file /content/Swipe Right-Left/ekin45 SRL1.png\n",
            "wrote file /content/Swipe Right-Left/ekin45 SRL2.png\n",
            "wrote file /content/Swipe Right-Left/ekin46 SRL1.png\n",
            "wrote file /content/Swipe Right-Left/ekin46 SRL2.png\n",
            "wrote file /content/Circle/ekin0 C1.png\n",
            "wrote file /content/Circle/ekin0 C2.png\n",
            "wrote file /content/Circle/ekin3 C1.png\n",
            "wrote file /content/Circle/ekin3 C2.png\n",
            "wrote file /content/Circle/ekin4 C1.png\n",
            "wrote file /content/Circle/ekin4 C2.png\n",
            "wrote file /content/Circle/ekin5 C1.png\n",
            "wrote file /content/Circle/ekin5 C2.png\n",
            "wrote file /content/Circle/ekin6 C1.png\n",
            "wrote file /content/Circle/ekin6 C2.png\n",
            "wrote file /content/Circle/ekin7 C1.png\n",
            "wrote file /content/Circle/ekin7 C2.png\n",
            "wrote file /content/Circle/ekin8 C1.png\n",
            "wrote file /content/Circle/ekin8 C2.png\n",
            "wrote file /content/Circle/ekin9 C1.png\n",
            "wrote file /content/Circle/ekin9 C2.png\n",
            "wrote file /content/Circle/ekin10 C1.png\n",
            "wrote file /content/Circle/ekin10 C2.png\n",
            "wrote file /content/Circle/ekin11 C1.png\n",
            "wrote file /content/Circle/ekin11 C2.png\n",
            "wrote file /content/Circle/ekin12 C1.png\n",
            "wrote file /content/Circle/ekin12 C2.png\n",
            "wrote file /content/Circle/ekin14 C1.png\n",
            "wrote file /content/Circle/ekin14 C2.png\n",
            "wrote file /content/Circle/ekin15 C1.png\n",
            "wrote file /content/Circle/ekin15 C2.png\n",
            "wrote file /content/Circle/ekin16 C1.png\n",
            "wrote file /content/Circle/ekin16 C2.png\n",
            "wrote file /content/Circle/ekin17 C1.png\n",
            "wrote file /content/Circle/ekin17 C2.png\n",
            "wrote file /content/Circle/ekin18 C1.png\n",
            "wrote file /content/Circle/ekin18 C2.png\n",
            "wrote file /content/Circle/ekin19 C1.png\n",
            "wrote file /content/Circle/ekin19 C2.png\n",
            "wrote file /content/Circle/ekin20 C1.png\n",
            "wrote file /content/Circle/ekin20 C2.png\n",
            "wrote file /content/Circle/ekin21 C1.png\n",
            "wrote file /content/Circle/ekin21 C2.png\n",
            "wrote file /content/Circle/ekin22 C1.png\n",
            "wrote file /content/Circle/ekin22 C2.png\n",
            "wrote file /content/Circle/ekin23 C1.png\n",
            "wrote file /content/Circle/ekin23 C2.png\n",
            "wrote file /content/Circle/ekin25 C1.png\n",
            "wrote file /content/Circle/ekin25 C2.png\n",
            "wrote file /content/Circle/ekin26 C1.png\n",
            "wrote file /content/Circle/ekin26 C2.png\n",
            "wrote file /content/Circle/ekin29 C1.png\n",
            "wrote file /content/Circle/ekin29 C2.png\n",
            "wrote file /content/Circle/ekin30 C1.png\n",
            "wrote file /content/Circle/ekin30 C2.png\n",
            "wrote file /content/Circle/ekin31 C1.png\n",
            "wrote file /content/Circle/ekin31 C2.png\n",
            "wrote file /content/Circle/ekin32 C1.png\n",
            "wrote file /content/Circle/ekin32 C2.png\n",
            "wrote file /content/Circle/ekin33 C1.png\n",
            "wrote file /content/Circle/ekin33 C2.png\n",
            "wrote file /content/Circle/ekin34 C1.png\n",
            "wrote file /content/Circle/ekin34 C2.png\n",
            "wrote file /content/Circle/ekin35 C1.png\n",
            "wrote file /content/Circle/ekin35 C2.png\n",
            "wrote file /content/Circle/ekin28 C2.png\n",
            "wrote file /content/Circle/ekin28 C1.png\n",
            "wrote file /content/Circle/ekin36 C1.png\n",
            "wrote file /content/Circle/ekin36 C2.png\n",
            "wrote file /content/Circle/ekin37 C1.png\n",
            "wrote file /content/Circle/ekin37 C2.png\n",
            "wrote file /content/Circle/ekin38 C1.png\n",
            "wrote file /content/Circle/ekin38 C2.png\n",
            "wrote file /content/Circle/ekin39 C1.png\n",
            "wrote file /content/Circle/ekin39 C2.png\n",
            "wrote file /content/Circle/ekin40 C1.png\n",
            "wrote file /content/Circle/ekin40 C2.png\n",
            "wrote file /content/Circle/ekin41 C1.png\n",
            "wrote file /content/Circle/ekin41 C2.png\n",
            "wrote file /content/Circle/ekin42 C1.png\n",
            "wrote file /content/Circle/ekin42 C2.png\n",
            "wrote file /content/Circle/ekin43 C1.png\n",
            "wrote file /content/Circle/ekin43 C2.png\n",
            "wrote file /content/Circle/ekin44 C1.png\n",
            "wrote file /content/Circle/ekin44 C2.png\n",
            "wrote file /content/Circle/ekin45 C1.png\n",
            "wrote file /content/Circle/ekin45 C2.png\n",
            "wrote file /content/Circle/ekin46 C1.png\n",
            "wrote file /content/Circle/ekin46 C2.png\n",
            "wrote file /content/Tap/ekin0 T1.png\n",
            "wrote file /content/Tap/ekin0 T2.png\n",
            "wrote file /content/Tap/ekin3 T1.png\n",
            "wrote file /content/Tap/ekin3 T2.png\n",
            "wrote file /content/Tap/ekin4 T1.png\n",
            "wrote file /content/Tap/ekin4 T2.png\n",
            "wrote file /content/Tap/ekin5 T1.png\n",
            "wrote file /content/Tap/ekin5 T2.png\n",
            "wrote file /content/Tap/ekin6 T1.png\n",
            "wrote file /content/Tap/ekin6 T2.png\n",
            "wrote file /content/Tap/ekin7 T1.png\n",
            "wrote file /content/Tap/ekin7 T2.png\n",
            "wrote file /content/Tap/ekin8 T1.png\n",
            "wrote file /content/Tap/ekin8 T2.png\n",
            "wrote file /content/Tap/ekin9 T1.png\n",
            "wrote file /content/Tap/ekin9 T2.png\n",
            "wrote file /content/Tap/ekin10 T1.png\n",
            "wrote file /content/Tap/ekin10 T2.png\n",
            "wrote file /content/Tap/ekin11 T1.png\n",
            "wrote file /content/Tap/ekin11 T2.png\n",
            "wrote file /content/Tap/ekin12 T1.png\n",
            "wrote file /content/Tap/ekin12 T2.png\n",
            "wrote file /content/Tap/ekin14 T1.png\n",
            "wrote file /content/Tap/ekin14 T2.png\n",
            "wrote file /content/Tap/ekin15 T1.png\n",
            "wrote file /content/Tap/ekin15 T2.png\n",
            "wrote file /content/Tap/ekin16 T1.png\n",
            "wrote file /content/Tap/ekin16 T2.png\n",
            "wrote file /content/Tap/ekin17 T1.png\n",
            "wrote file /content/Tap/ekin17 T2.png\n",
            "wrote file /content/Tap/ekin18 T1.png\n",
            "wrote file /content/Tap/ekin18 T2.png\n",
            "wrote file /content/Tap/ekin19 T1.png\n",
            "wrote file /content/Tap/ekin19 T2.png\n",
            "wrote file /content/Tap/ekin20 T1.png\n",
            "wrote file /content/Tap/ekin20 T2.png\n",
            "wrote file /content/Tap/ekin21 T1.png\n",
            "wrote file /content/Tap/ekin21 T2.png\n",
            "wrote file /content/Tap/ekin22 T1.png\n",
            "wrote file /content/Tap/ekin22 T2.png\n",
            "wrote file /content/Tap/ekin23 T1.png\n",
            "wrote file /content/Tap/ekin23 T2.png\n",
            "wrote file /content/Tap/ekin25 T1.png\n",
            "wrote file /content/Tap/ekin25 T2.png\n",
            "wrote file /content/Tap/ekin26 T1.png\n",
            "wrote file /content/Tap/ekin26 T2.png\n",
            "wrote file /content/Tap/ekin29 T1.png\n",
            "wrote file /content/Tap/ekin29 T2.png\n",
            "wrote file /content/Tap/ekin30 T1.png\n",
            "wrote file /content/Tap/ekin30 T2.png\n",
            "wrote file /content/Tap/ekin31 T1.png\n",
            "wrote file /content/Tap/ekin31 T2.png\n",
            "wrote file /content/Tap/ekin32 T1.png\n",
            "wrote file /content/Tap/ekin32 T2.png\n",
            "wrote file /content/Tap/ekin33 T1.png\n",
            "wrote file /content/Tap/ekin33 T2.png\n",
            "wrote file /content/Tap/ekin34 T1.png\n",
            "wrote file /content/Tap/ekin34 T2.png\n",
            "wrote file /content/Tap/ekin35 T1.png\n",
            "wrote file /content/Tap/ekin35 T2.png\n",
            "wrote file /content/Tap/ekin28 T2.png\n",
            "wrote file /content/Tap/ekin28 T1.png\n",
            "wrote file /content/Tap/ekin36 T1.png\n",
            "wrote file /content/Tap/ekin36 T2.png\n",
            "wrote file /content/Tap/ekin37 T1.png\n",
            "wrote file /content/Tap/ekin37 T2.png\n",
            "wrote file /content/Tap/ekin38 T1.png\n",
            "wrote file /content/Tap/ekin38 T2.png\n",
            "wrote file /content/Tap/ekin39 T1.png\n",
            "wrote file /content/Tap/ekin39 T2.png\n",
            "wrote file /content/Tap/ekin40 T1.png\n",
            "wrote file /content/Tap/ekin40 T2.png\n",
            "wrote file /content/Tap/ekin41 T1.png\n",
            "wrote file /content/Tap/ekin41 T2.png\n",
            "wrote file /content/Tap/ekin42 T1.png\n",
            "wrote file /content/Tap/ekin42 T2.png\n",
            "wrote file /content/Tap/ekin43 T1.png\n",
            "wrote file /content/Tap/ekin43 T2.png\n",
            "wrote file /content/Tap/ekin44 T1.png\n",
            "wrote file /content/Tap/ekin44 T2.png\n",
            "wrote file /content/Tap/ekin45 T1.png\n",
            "wrote file /content/Tap/ekin45 T2.png\n",
            "wrote file /content/Tap/ekin46 T1.png\n",
            "wrote file /content/Tap/ekin46 T2.png\n",
            "wrote file /content/Scroll Down/ekin0 SD1.png\n",
            "wrote file /content/Scroll Down/ekin0 SD2.png\n",
            "wrote file /content/Scroll Down/ekin3 SD1.png\n",
            "wrote file /content/Scroll Down/ekin3 SD2.png\n",
            "wrote file /content/Scroll Down/ekin4 SD1.png\n",
            "wrote file /content/Scroll Down/ekin4 SD2.png\n",
            "wrote file /content/Scroll Down/ekin5 SD1.png\n",
            "wrote file /content/Scroll Down/ekin5 SD2.png\n",
            "wrote file /content/Scroll Down/ekin6 SD1.png\n",
            "wrote file /content/Scroll Down/ekin6 SD2.png\n",
            "wrote file /content/Scroll Down/ekin7 SD1.png\n",
            "wrote file /content/Scroll Down/ekin7 SD2.png\n",
            "wrote file /content/Scroll Down/ekin8 SD1.png\n",
            "wrote file /content/Scroll Down/ekin8 SD2.png\n",
            "wrote file /content/Scroll Down/ekin9 SD1.png\n",
            "wrote file /content/Scroll Down/ekin9 SD2.png\n",
            "wrote file /content/Scroll Down/ekin10 SD1.png\n",
            "wrote file /content/Scroll Down/ekin10 SD2.png\n",
            "wrote file /content/Scroll Down/ekin11 SD1.png\n",
            "wrote file /content/Scroll Down/ekin11 SD2.png\n",
            "wrote file /content/Scroll Down/ekin12 SD1.png\n",
            "wrote file /content/Scroll Down/ekin12 SD2.png\n",
            "wrote file /content/Scroll Down/ekin14 SD1.png\n",
            "wrote file /content/Scroll Down/ekin14 SD2.png\n",
            "wrote file /content/Scroll Down/ekin15 SD1.png\n",
            "wrote file /content/Scroll Down/ekin15 SD2.png\n",
            "wrote file /content/Scroll Down/ekin16 SD1.png\n",
            "wrote file /content/Scroll Down/ekin16 SD2.png\n",
            "wrote file /content/Scroll Down/ekin17 SD1.png\n",
            "wrote file /content/Scroll Down/ekin17 SD2.png\n",
            "wrote file /content/Scroll Down/ekin18 SD1.png\n",
            "wrote file /content/Scroll Down/ekin18 SD2.png\n",
            "wrote file /content/Scroll Down/ekin19 SD1.png\n",
            "wrote file /content/Scroll Down/ekin19 SD2.png\n",
            "wrote file /content/Scroll Down/ekin20 SD1.png\n",
            "wrote file /content/Scroll Down/ekin20 SD2.png\n",
            "wrote file /content/Scroll Down/ekin21 SD1.png\n",
            "wrote file /content/Scroll Down/ekin21 SD2.png\n",
            "wrote file /content/Scroll Down/ekin22 SD1.png\n",
            "wrote file /content/Scroll Down/ekin22 SD2.png\n",
            "wrote file /content/Scroll Down/ekin23 SD1.png\n",
            "wrote file /content/Scroll Down/ekin23 SD2.png\n",
            "wrote file /content/Scroll Down/ekin25 SD1.png\n",
            "wrote file /content/Scroll Down/ekin25 SD2.png\n",
            "wrote file /content/Scroll Down/ekin26 SD1.png\n",
            "wrote file /content/Scroll Down/ekin26 SD2.png\n",
            "wrote file /content/Scroll Down/ekin29 SD1.png\n",
            "wrote file /content/Scroll Down/ekin29 SD2.png\n",
            "wrote file /content/Scroll Down/ekin30 SD1.png\n",
            "wrote file /content/Scroll Down/ekin30 SD2.png\n",
            "wrote file /content/Scroll Down/ekin31 SD1.png\n",
            "wrote file /content/Scroll Down/ekin31 SD2.png\n",
            "wrote file /content/Scroll Down/ekin32 SD1.png\n",
            "wrote file /content/Scroll Down/ekin32 SD2.png\n",
            "wrote file /content/Scroll Down/ekin33 SD1.png\n",
            "wrote file /content/Scroll Down/ekin33 SD2.png\n",
            "wrote file /content/Scroll Down/ekin34 SD1.png\n",
            "wrote file /content/Scroll Down/ekin34 SD2.png\n",
            "wrote file /content/Scroll Down/ekin35 SD1.png\n",
            "wrote file /content/Scroll Down/ekin35 SD2.png\n",
            "wrote file /content/Scroll Down/ekin28 SD2.png\n",
            "wrote file /content/Scroll Down/ekin28 SD1.png\n",
            "wrote file /content/Scroll Down/ekin36 SD1.png\n",
            "wrote file /content/Scroll Down/ekin36 SD2.png\n",
            "wrote file /content/Scroll Down/ekin37 SD1.png\n",
            "wrote file /content/Scroll Down/ekin37 SD2.png\n",
            "wrote file /content/Scroll Down/ekin38 SD1.png\n",
            "wrote file /content/Scroll Down/ekin38 SD2.png\n",
            "wrote file /content/Scroll Down/ekin39 SD1.png\n",
            "wrote file /content/Scroll Down/ekin39 SD2.png\n",
            "wrote file /content/Scroll Down/ekin40 SD1.png\n",
            "wrote file /content/Scroll Down/ekin40 SD2.png\n",
            "wrote file /content/Scroll Down/ekin41 SD1.png\n",
            "wrote file /content/Scroll Down/ekin41 SD2.png\n",
            "wrote file /content/Scroll Down/ekin42 SD1.png\n",
            "wrote file /content/Scroll Down/ekin42 SD2.png\n",
            "wrote file /content/Scroll Down/ekin43 SD1.png\n",
            "wrote file /content/Scroll Down/ekin43 SD2.png\n",
            "wrote file /content/Scroll Down/ekin44 SD1.png\n",
            "wrote file /content/Scroll Down/ekin44 SD2.png\n",
            "wrote file /content/Scroll Down/ekin45 SD1.png\n",
            "wrote file /content/Scroll Down/ekin45 SD2.png\n",
            "wrote file /content/Scroll Down/ekin46 SD1.png\n",
            "wrote file /content/Scroll Down/ekin46 SD2.png\n"
          ],
          "name": "stdout"
        }
      ]
    },
    {
      "cell_type": "code",
      "metadata": {
        "id": "XrSwaUsjC60H"
      },
      "source": [
        "import pandas as pd\n",
        "import numpy as np\n",
        "import os\n",
        "import tensorflow as tf\n",
        "import cv2\n",
        "from tensorflow import keras\n",
        "from  matplotlib import pyplot as plt\n",
        "import matplotlib.image as mpimg\n",
        "import librosa\n",
        "from sklearn import metrics\n",
        "from datetime import datetime\n",
        "from os import mkdir\n",
        "import pytz\n",
        "import skimage\n",
        "from skimage import io\n",
        "from sklearn.model_selection import train_test_split\n",
        "\n",
        "from keras.models import Sequential\n",
        "from keras.layers import Dense, Flatten, Conv2D, MaxPooling2D, Dropout\n",
        "from tensorflow.keras import layers\n",
        "from keras.utils import to_categorical\n",
        "plt.style.use('fivethirtyeight')\n",
        "import imageio\n",
        "import glob"
      ],
      "execution_count": null,
      "outputs": []
    },
    {
      "cell_type": "code",
      "metadata": {
        "id": "BEXBTWU2DMwi"
      },
      "source": [
        "v3path = \"/content/drive/My Drive/Smart Home/Dataset Collection/EkinNRTakes/\"\n",
        "images_path = \"/content/drive/My Drive/Smart Home/Dataset Collection/DatasetV3Images\"\n",
        "gestures = [\"Tap\", \"Swipe Right-Left\", \"Swipe Right\", \"Scroll Down\", \"Circle\"]"
      ],
      "execution_count": null,
      "outputs": []
    },
    {
      "cell_type": "code",
      "metadata": {
        "colab": {
          "base_uri": "https://localhost:8080/"
        },
        "id": "iQAXrZnXCsSL",
        "outputId": "aeb96607-88b8-41a3-fd71-9e3b257ee52e"
      },
      "source": [
        "# get the directory with the biggest number (I assume it is the most accurate)\n",
        "last_dir = os.path.join(images_path, (sorted(os.listdir(images_path))[-1]))\n",
        "print(last_dir)\n",
        "os.chdir(last_dir)"
      ],
      "execution_count": null,
      "outputs": [
        {
          "output_type": "stream",
          "text": [
            "/content/drive/.shortcut-targets-by-id/1auEKtFcKniNDliDPVeLVA1DUXuRKupzo/Smart Home/Dataset Collection/DatasetV3Images/5 - Created at 17-12-2020 11:01:26/Tap\n"
          ],
          "name": "stdout"
        }
      ]
    },
    {
      "cell_type": "code",
      "metadata": {
        "id": "5r46i-Y9_7h7"
      },
      "source": [
        "images_path = os.getcwd()"
      ],
      "execution_count": null,
      "outputs": []
    },
    {
      "cell_type": "code",
      "metadata": {
        "colab": {
          "base_uri": "https://localhost:8080/"
        },
        "id": "dielqgQabzi_",
        "outputId": "68307713-50db-4666-c48a-3b465cf105b2"
      },
      "source": [
        "img_dirs = os.listdir(images_path)\n",
        "img_dirs"
      ],
      "execution_count": null,
      "outputs": [
        {
          "output_type": "execute_result",
          "data": {
            "text/plain": [
              "['Tap', 'Swipe Right-Left', 'Swipe Right', 'Scroll Down', 'Circle']"
            ]
          },
          "metadata": {
            "tags": []
          },
          "execution_count": 12
        }
      ]
    },
    {
      "cell_type": "code",
      "metadata": {
        "colab": {
          "base_uri": "https://localhost:8080/"
        },
        "id": "Tqs3_nwgrvkP",
        "outputId": "cd9dce39-f69d-4fc4-8875-88e924f14a31"
      },
      "source": [
        "!pip install pillow"
      ],
      "execution_count": null,
      "outputs": [
        {
          "output_type": "stream",
          "text": [
            "Requirement already satisfied: pillow in /usr/local/lib/python3.6/dist-packages (7.0.0)\n"
          ],
          "name": "stdout"
        }
      ]
    },
    {
      "cell_type": "code",
      "metadata": {
        "id": "JtNJRBIPEktg"
      },
      "source": [
        "batch_size = 10\n",
        "img_height = 128\n",
        "img_width = 44\n",
        "# It should have exactly 3 input channels, and width and height should be no smaller than 32."
      ],
      "execution_count": null,
      "outputs": []
    },
    {
      "cell_type": "code",
      "metadata": {
        "id": "SsmjJ19lsuJy"
      },
      "source": [
        "from keras.applications.vgg16 import VGG16, preprocess_input\n",
        "from keras.applications import vgg16"
      ],
      "execution_count": null,
      "outputs": []
    },
    {
      "cell_type": "code",
      "metadata": {
        "colab": {
          "base_uri": "https://localhost:8080/"
        },
        "id": "vP4zzvnKEoQw",
        "outputId": "e2baaf87-d66d-4841-a8ee-f8d995460a58"
      },
      "source": [
        "# Create training dataset.\n",
        "train_ds = tf.keras.preprocessing.image_dataset_from_directory(\n",
        "        images_path,\n",
        "        validation_split=0.2,\n",
        "        subset=\"training\",\n",
        "        seed=13,\n",
        "        #color_mode = 'grayscale',\n",
        "        color_mode = 'rgb',\n",
        "        image_size=(img_height, img_width),\n",
        "        batch_size=batch_size,\n",
        "        shuffle=True,\n",
        "        )\n",
        "\n",
        "print(train_ds)\n",
        "\n",
        "#Note: each Keras Application expects a specific kind of input preprocessing. For VGG16, call tf.keras.applications.vgg16.preprocess_input on your inputs before passing them to the model."
      ],
      "execution_count": null,
      "outputs": [
        {
          "output_type": "stream",
          "text": [
            "Found 419 files belonging to 5 classes.\n",
            "Using 336 files for training.\n",
            "<BatchDataset shapes: ((None, 128, 44, 3), (None,)), types: (tf.float32, tf.int32)>\n"
          ],
          "name": "stdout"
        }
      ]
    },
    {
      "cell_type": "code",
      "metadata": {
        "colab": {
          "base_uri": "https://localhost:8080/"
        },
        "id": "YaDGja5IbB6S",
        "outputId": "32b07af7-21aa-48b2-bd59-4e207b0d2c5a"
      },
      "source": [
        "# Create validation dataset.\n",
        "val_ds = tf.keras.preprocessing.image_dataset_from_directory(\n",
        "  images_path,\n",
        "  validation_split=0.2,\n",
        "  subset=\"validation\",\n",
        "  seed=12,\n",
        "  color_mode = 'rgb',\n",
        "  image_size=(img_height, img_width),\n",
        "  shuffle=True,\n",
        "  batch_size=batch_size)"
      ],
      "execution_count": null,
      "outputs": [
        {
          "output_type": "stream",
          "text": [
            "Found 419 files belonging to 5 classes.\n",
            "Using 83 files for validation.\n"
          ],
          "name": "stdout"
        }
      ]
    },
    {
      "cell_type": "code",
      "metadata": {
        "colab": {
          "base_uri": "https://localhost:8080/"
        },
        "id": "cic4PP5UbG1_",
        "outputId": "c6e1711e-2c14-4962-b252-5f33887135e0"
      },
      "source": [
        "class_names = train_ds.class_names\n",
        "print(class_names)"
      ],
      "execution_count": null,
      "outputs": [
        {
          "output_type": "stream",
          "text": [
            "['Circle', 'Scroll Down', 'Swipe Right', 'Swipe Right-Left', 'Tap']\n"
          ],
          "name": "stdout"
        }
      ]
    },
    {
      "cell_type": "code",
      "metadata": {
        "colab": {
          "base_uri": "https://localhost:8080/",
          "height": 635
        },
        "id": "hBeT5GhObNoC",
        "outputId": "398a605b-498e-429a-b3d6-b421c7ca1054"
      },
      "source": [
        "# Show the first 9 instances of the training set.\n",
        "plt.figure(figsize=(10, 10))\n",
        "for images, labels in train_ds.take(1):\n",
        "  #for i in range(9):\n",
        "  for i in range(9):\n",
        "    ax = plt.subplot(3, 3, i + 1)\n",
        "    plt.imshow(images[i].numpy().astype(\"uint8\").reshape(img_height, img_width,3))\n",
        "    plt.title(class_names[labels[i]])\n",
        "    plt.axis(\"off\")"
      ],
      "execution_count": null,
      "outputs": [
        {
          "output_type": "display_data",
          "data": {
            "image/png": "[encoded data removed]",
            "text/plain": [
              "<Figure size 720x720 with 9 Axes>"
            ]
          },
          "metadata": {
            "tags": []
          }
        }
      ]
    },
    {
      "cell_type": "code",
      "metadata": {
        "colab": {
          "base_uri": "https://localhost:8080/"
        },
        "id": "cvoMhhkuhFNJ",
        "outputId": "b2631dcc-ed06-447f-d90e-9f19b5a094dc"
      },
      "source": [
        "for image_batch, labels_batch in train_ds:\n",
        "  print(image_batch.shape)\n",
        "  print(labels_batch.shape)\n",
        "  break"
      ],
      "execution_count": null,
      "outputs": [
        {
          "output_type": "stream",
          "text": [
            "(10, 128, 44, 3)\n",
            "(10,)\n"
          ],
          "name": "stdout"
        }
      ]
    },
    {
      "cell_type": "code",
      "metadata": {
        "id": "sX9XAC6coeBm"
      },
      "source": [
        "# This is for easy IO.\n",
        "AUTOTUNE = tf.data.experimental.AUTOTUNE\n",
        "\n",
        "train_ds = train_ds.cache().prefetch(buffer_size=AUTOTUNE)\n",
        "val_ds = val_ds.cache().prefetch(buffer_size=AUTOTUNE)"
      ],
      "execution_count": null,
      "outputs": []
    },
    {
      "cell_type": "code",
      "metadata": {
        "id": "41r81bn4XL33"
      },
      "source": [
        "num_classes = 5\n",
        "input_shape = (128,44,3)\n",
        "\n"
      ],
      "execution_count": null,
      "outputs": []
    },
    {
      "cell_type": "code",
      "metadata": {
        "colab": {
          "base_uri": "https://localhost:8080/"
        },
        "id": "fbRCgPW7on7d",
        "outputId": "a6a2a4cd-1c6e-4894-94c4-3bd1c69e1abe"
      },
      "source": [
        "model = VGG16(weights=\"imagenet\",include_top=False, input_shape = input_shape)\n",
        "model = tf.keras.Model(inputs=model.inputs, outputs=model.layers[-1].output)\n",
        "model.trainable = False\n",
        "\n",
        "def pretrained_model(img_shape, num_classes):\n",
        "    model_vgg16_conv = VGG16(weights='imagenet', include_top=False)\n",
        "    #model_vgg16_conv.summary()\n",
        "\n",
        "    #Create your own input format\n",
        "    keras_input = Input(shape=img_shape, name = 'image_input')\n",
        "\n",
        "    #Use the generated model\n",
        "    output_vgg16_conv = model_vgg16_conv(keras_input)\n",
        "\n",
        "    #Add the fully-connected layers\n",
        "    x = Flatten(name='flatten')(output_vgg16_conv)\n",
        "    x = Dense(4096, activation=layer_type, name='fc1')(x)\n",
        "    x = Dense(4096, activation=layer_type, name='fc2')(x)\n",
        "    x = Dense(num_classes, activation='softmax', name='predictions')(x)\n",
        "\n",
        "    #Create your own model\n",
        "    pretrained_model = Model(inputs=keras_input, outputs=x)\n",
        "    pretrained_model.compile(loss='sparse_categorical_crossentropy', optimizer='adam', metrics=['accuracy'])\n",
        "\n",
        "    return pretrained_model\n",
        "\n",
        "flat1 = Flatten()(model.layers[-1].output)\n",
        "#class1 = Dense(256, activation='relu')(flat1)\n",
        "#dropout1 = Dropout(0.4)(class1)\n",
        "#class2 = Dense(256, activation='relu')(dropout1)\n",
        "#dropout2 = Dropout(0.4)(class2)\n",
        "#class3 = Dense(256, activation='relu')(dropout2)\n",
        "#output = Dense(num_classes, activation='softmax')(class3)\n",
        "#model = tf.keras.Model(inputs=model.inputs, outputs=output)\n",
        "class1 = Dense(512, activation='relu')(flat1)\n",
        "dropout1 = Dropout(0.5)(class1)\n",
        "class2 = Dense(512, activation='relu')(dropout1)\n",
        "#dropout2 = Dropout(0.4)(class2)\n",
        "#class3 = Dense(256, activation='relu')(dropout2)\n",
        "output = Dense(num_classes, activation='softmax')(class2)\n",
        "model = tf.keras.Model(inputs=model.inputs, outputs=output)\n",
        "\n",
        "\n",
        "\n",
        "\n",
        "for layer in model.layers:\n",
        "  print(layer.trainable)\n",
        "\n",
        "\n",
        "print(model.summary())"
      ],
      "execution_count": null,
      "outputs": [
        {
          "output_type": "stream",
          "text": [
            "Downloading data from https://storage.googleapis.com/tensorflow/keras-applications/vgg16/vgg16_weights_tf_dim_ordering_tf_kernels_notop.h5\n",
            "58892288/58889256 [==============================] - 0s 0us/step\n",
            "False\n",
            "False\n",
            "False\n",
            "False\n",
            "False\n",
            "False\n",
            "False\n",
            "False\n",
            "False\n",
            "False\n",
            "False\n",
            "False\n",
            "False\n",
            "False\n",
            "False\n",
            "False\n",
            "False\n",
            "False\n",
            "False\n",
            "True\n",
            "True\n",
            "True\n",
            "True\n",
            "True\n",
            "Model: \"model_1\"\n",
            "_________________________________________________________________\n",
            "Layer (type)                 Output Shape              Param #   \n",
            "=================================================================\n",
            "input_1 (InputLayer)         [(None, 128, 44, 3)]      0         \n",
            "_________________________________________________________________\n",
            "block1_conv1 (Conv2D)        (None, 128, 44, 64)       1792      \n",
            "_________________________________________________________________\n",
            "block1_conv2 (Conv2D)        (None, 128, 44, 64)       36928     \n",
            "_________________________________________________________________\n",
            "block1_pool (MaxPooling2D)   (None, 64, 22, 64)        0         \n",
            "_________________________________________________________________\n",
            "block2_conv1 (Conv2D)        (None, 64, 22, 128)       73856     \n",
            "_________________________________________________________________\n",
            "block2_conv2 (Conv2D)        (None, 64, 22, 128)       147584    \n",
            "_________________________________________________________________\n",
            "block2_pool (MaxPooling2D)   (None, 32, 11, 128)       0         \n",
            "_________________________________________________________________\n",
            "block3_conv1 (Conv2D)        (None, 32, 11, 256)       295168    \n",
            "_________________________________________________________________\n",
            "block3_conv2 (Conv2D)        (None, 32, 11, 256)       590080    \n",
            "_________________________________________________________________\n",
            "block3_conv3 (Conv2D)        (None, 32, 11, 256)       590080    \n",
            "_________________________________________________________________\n",
            "block3_pool (MaxPooling2D)   (None, 16, 5, 256)        0         \n",
            "_________________________________________________________________\n",
            "block4_conv1 (Conv2D)        (None, 16, 5, 512)        1180160   \n",
            "_________________________________________________________________\n",
            "block4_conv2 (Conv2D)        (None, 16, 5, 512)        2359808   \n",
            "_________________________________________________________________\n",
            "block4_conv3 (Conv2D)        (None, 16, 5, 512)        2359808   \n",
            "_________________________________________________________________\n",
            "block4_pool (MaxPooling2D)   (None, 8, 2, 512)         0         \n",
            "_________________________________________________________________\n",
            "block5_conv1 (Conv2D)        (None, 8, 2, 512)         2359808   \n",
            "_________________________________________________________________\n",
            "block5_conv2 (Conv2D)        (None, 8, 2, 512)         2359808   \n",
            "_________________________________________________________________\n",
            "block5_conv3 (Conv2D)        (None, 8, 2, 512)         2359808   \n",
            "_________________________________________________________________\n",
            "block5_pool (MaxPooling2D)   (None, 4, 1, 512)         0         \n",
            "_________________________________________________________________\n",
            "flatten (Flatten)            (None, 2048)              0         \n",
            "_________________________________________________________________\n",
            "dense (Dense)                (None, 512)               1049088   \n",
            "_________________________________________________________________\n",
            "dropout (Dropout)            (None, 512)               0         \n",
            "_________________________________________________________________\n",
            "dense_1 (Dense)              (None, 512)               262656    \n",
            "_________________________________________________________________\n",
            "dense_2 (Dense)              (None, 5)                 2565      \n",
            "=================================================================\n",
            "Total params: 16,028,997\n",
            "Trainable params: 1,314,309\n",
            "Non-trainable params: 14,714,688\n",
            "_________________________________________________________________\n",
            "None\n"
          ],
          "name": "stdout"
        }
      ]
    },
    {
      "cell_type": "code",
      "metadata": {
        "id": "fF5aswE86TU7"
      },
      "source": [
        "flat1 = Flatten()(model.layers[-1].output)\n",
        "#class1 = Dense(256, activation='relu')(flat1)\n",
        "#dropout1 = Dropout(0.4)(class1)\n",
        "#class2 = Dense(256, activation='relu')(dropout1)\n",
        "#dropout2 = Dropout(0.4)(class2)\n",
        "#class3 = Dense(256, activation='relu')(dropout2)\n",
        "#output = Dense(num_classes, activation='softmax')(class3)\n",
        "#model = tf.keras.Model(inputs=model.inputs, outputs=output)\n",
        "class1 = Dense(256, activation='relu')(flat1)\n",
        "#dropout1 = Dropout(0.4)(class1)\n",
        "class2 = Dense(256, activation='relu')(class1)\n",
        "#dropout2 = Dropout(0.4)(class2)\n",
        "class3 = Dense(128, activation='relu')(class2)\n",
        "class4 = Dense(128, activation='relu')(class3)\n",
        "dropout1 = Dropout(0.5)(class4)\n",
        "output = Dense(num_classes, activation='softmax')(dropout1)\n",
        "model = tf.keras.Model(inputs=model.inputs, outputs=output)"
      ],
      "execution_count": null,
      "outputs": []
    },
    {
      "cell_type": "code",
      "metadata": {
        "id": "mRpBdwqQeqG-"
      },
      "source": [
        "model.compile(\n",
        "  optimizer=tf.keras.optimizers.Adam(learning_rate=0.0001),\n",
        "  #optimizer=tf.keras.optimizers.Adam(learning_rate=0.00001),\n",
        "  loss=tf.losses.SparseCategoricalCrossentropy(from_logits=True),\n",
        "  metrics=['accuracy'])"
      ],
      "execution_count": null,
      "outputs": []
    },
    {
      "cell_type": "code",
      "metadata": {
        "colab": {
          "base_uri": "https://localhost:8080/"
        },
        "id": "zP1tWit0owHD",
        "outputId": "bd011334-999d-416a-fd94-cc1f41abaa50"
      },
      "source": [
        "history = model.fit( train_ds, validation_data=val_ds, epochs=50)"
      ],
      "execution_count": null,
      "outputs": [
        {
          "output_type": "stream",
          "text": [
            "Epoch 1/50\n",
            "34/34 [==============================] - 96s 3s/step - loss: 6.9219 - accuracy: 0.2696 - val_loss: 1.5390 - val_accuracy: 0.5301\n",
            "Epoch 2/50\n",
            "34/34 [==============================] - 0s 14ms/step - loss: 3.9640 - accuracy: 0.4264 - val_loss: 1.5789 - val_accuracy: 0.6506\n",
            "Epoch 3/50\n",
            "34/34 [==============================] - 0s 14ms/step - loss: 3.0341 - accuracy: 0.5036 - val_loss: 1.4672 - val_accuracy: 0.6386\n",
            "Epoch 4/50\n",
            "34/34 [==============================] - 0s 14ms/step - loss: 2.3342 - accuracy: 0.5547 - val_loss: 1.1279 - val_accuracy: 0.7229\n",
            "Epoch 5/50\n",
            "34/34 [==============================] - 0s 14ms/step - loss: 1.6897 - accuracy: 0.6471 - val_loss: 0.6256 - val_accuracy: 0.7470\n",
            "Epoch 6/50\n",
            "34/34 [==============================] - 0s 15ms/step - loss: 1.8143 - accuracy: 0.6313 - val_loss: 0.5521 - val_accuracy: 0.8434\n",
            "Epoch 7/50\n",
            "34/34 [==============================] - 0s 15ms/step - loss: 1.2803 - accuracy: 0.7140 - val_loss: 0.5401 - val_accuracy: 0.8313\n",
            "Epoch 8/50\n",
            "34/34 [==============================] - 0s 14ms/step - loss: 0.9845 - accuracy: 0.7364 - val_loss: 0.3919 - val_accuracy: 0.8554\n",
            "Epoch 9/50\n",
            "34/34 [==============================] - 0s 14ms/step - loss: 0.9306 - accuracy: 0.7340 - val_loss: 0.4437 - val_accuracy: 0.8434\n",
            "Epoch 10/50\n",
            "34/34 [==============================] - 1s 15ms/step - loss: 0.8446 - accuracy: 0.7656 - val_loss: 0.3690 - val_accuracy: 0.8795\n",
            "Epoch 11/50\n",
            "34/34 [==============================] - 0s 14ms/step - loss: 0.5853 - accuracy: 0.8254 - val_loss: 0.2965 - val_accuracy: 0.9398\n",
            "Epoch 12/50\n",
            "34/34 [==============================] - 0s 15ms/step - loss: 0.6513 - accuracy: 0.7889 - val_loss: 0.3381 - val_accuracy: 0.8795\n",
            "Epoch 13/50\n",
            "34/34 [==============================] - 0s 15ms/step - loss: 0.4831 - accuracy: 0.8516 - val_loss: 0.3457 - val_accuracy: 0.9036\n",
            "Epoch 14/50\n",
            "34/34 [==============================] - 1s 18ms/step - loss: 0.3888 - accuracy: 0.8555 - val_loss: 0.3140 - val_accuracy: 0.9277\n",
            "Epoch 15/50\n",
            "34/34 [==============================] - 0s 14ms/step - loss: 0.3514 - accuracy: 0.8725 - val_loss: 0.2479 - val_accuracy: 0.9398\n",
            "Epoch 16/50\n",
            "34/34 [==============================] - 0s 14ms/step - loss: 0.4053 - accuracy: 0.8500 - val_loss: 0.2793 - val_accuracy: 0.9277\n",
            "Epoch 17/50\n",
            "34/34 [==============================] - 0s 14ms/step - loss: 0.2630 - accuracy: 0.9033 - val_loss: 0.2283 - val_accuracy: 0.9398\n",
            "Epoch 18/50\n",
            "34/34 [==============================] - 0s 14ms/step - loss: 0.3441 - accuracy: 0.8887 - val_loss: 0.2499 - val_accuracy: 0.9518\n",
            "Epoch 19/50\n",
            "34/34 [==============================] - 0s 14ms/step - loss: 0.3771 - accuracy: 0.8674 - val_loss: 0.3083 - val_accuracy: 0.8916\n",
            "Epoch 20/50\n",
            "34/34 [==============================] - 0s 14ms/step - loss: 0.3126 - accuracy: 0.8991 - val_loss: 0.2559 - val_accuracy: 0.9518\n",
            "Epoch 21/50\n",
            "34/34 [==============================] - 0s 14ms/step - loss: 0.2755 - accuracy: 0.9282 - val_loss: 0.3167 - val_accuracy: 0.9398\n",
            "Epoch 22/50\n",
            "34/34 [==============================] - 0s 14ms/step - loss: 0.3316 - accuracy: 0.8855 - val_loss: 0.2683 - val_accuracy: 0.9398\n",
            "Epoch 23/50\n",
            "34/34 [==============================] - 0s 14ms/step - loss: 0.2110 - accuracy: 0.9349 - val_loss: 0.2910 - val_accuracy: 0.9398\n",
            "Epoch 24/50\n",
            "34/34 [==============================] - 0s 14ms/step - loss: 0.1720 - accuracy: 0.9238 - val_loss: 0.3122 - val_accuracy: 0.9398\n",
            "Epoch 25/50\n",
            "34/34 [==============================] - 0s 14ms/step - loss: 0.1242 - accuracy: 0.9404 - val_loss: 0.2950 - val_accuracy: 0.9518\n",
            "Epoch 26/50\n",
            "34/34 [==============================] - 0s 14ms/step - loss: 0.1398 - accuracy: 0.9566 - val_loss: 0.2844 - val_accuracy: 0.9518\n",
            "Epoch 27/50\n",
            "34/34 [==============================] - 0s 14ms/step - loss: 0.1637 - accuracy: 0.9521 - val_loss: 0.2741 - val_accuracy: 0.9398\n",
            "Epoch 28/50\n",
            "34/34 [==============================] - 0s 14ms/step - loss: 0.1717 - accuracy: 0.9455 - val_loss: 0.2687 - val_accuracy: 0.9518\n",
            "Epoch 29/50\n",
            "34/34 [==============================] - 0s 14ms/step - loss: 0.1631 - accuracy: 0.9560 - val_loss: 0.2711 - val_accuracy: 0.9398\n",
            "Epoch 30/50\n",
            "34/34 [==============================] - 0s 15ms/step - loss: 0.1113 - accuracy: 0.9659 - val_loss: 0.2639 - val_accuracy: 0.9518\n",
            "Epoch 31/50\n",
            "34/34 [==============================] - 0s 14ms/step - loss: 0.2125 - accuracy: 0.9292 - val_loss: 0.2888 - val_accuracy: 0.9518\n",
            "Epoch 32/50\n",
            "34/34 [==============================] - 0s 14ms/step - loss: 0.1925 - accuracy: 0.9397 - val_loss: 0.3074 - val_accuracy: 0.9639\n",
            "Epoch 33/50\n",
            "34/34 [==============================] - 0s 14ms/step - loss: 0.1449 - accuracy: 0.9408 - val_loss: 0.2869 - val_accuracy: 0.9639\n",
            "Epoch 34/50\n",
            "34/34 [==============================] - 0s 15ms/step - loss: 0.1266 - accuracy: 0.9506 - val_loss: 0.2990 - val_accuracy: 0.9518\n",
            "Epoch 35/50\n",
            "34/34 [==============================] - 0s 14ms/step - loss: 0.1021 - accuracy: 0.9794 - val_loss: 0.3051 - val_accuracy: 0.9518\n",
            "Epoch 36/50\n",
            "34/34 [==============================] - 0s 14ms/step - loss: 0.1289 - accuracy: 0.9440 - val_loss: 0.2763 - val_accuracy: 0.9639\n",
            "Epoch 37/50\n",
            "34/34 [==============================] - 0s 14ms/step - loss: 0.1383 - accuracy: 0.9449 - val_loss: 0.3050 - val_accuracy: 0.9639\n",
            "Epoch 38/50\n",
            "34/34 [==============================] - 0s 15ms/step - loss: 0.1002 - accuracy: 0.9623 - val_loss: 0.2984 - val_accuracy: 0.9518\n",
            "Epoch 39/50\n",
            "34/34 [==============================] - 0s 14ms/step - loss: 0.0874 - accuracy: 0.9546 - val_loss: 0.2811 - val_accuracy: 0.9639\n",
            "Epoch 40/50\n",
            "34/34 [==============================] - 0s 14ms/step - loss: 0.1289 - accuracy: 0.9453 - val_loss: 0.3095 - val_accuracy: 0.9639\n",
            "Epoch 41/50\n",
            "34/34 [==============================] - 0s 14ms/step - loss: 0.0490 - accuracy: 0.9836 - val_loss: 0.3065 - val_accuracy: 0.9639\n",
            "Epoch 42/50\n",
            "34/34 [==============================] - 0s 15ms/step - loss: 0.0722 - accuracy: 0.9824 - val_loss: 0.3115 - val_accuracy: 0.9639\n",
            "Epoch 43/50\n",
            "34/34 [==============================] - 0s 14ms/step - loss: 0.0775 - accuracy: 0.9754 - val_loss: 0.3080 - val_accuracy: 0.9639\n",
            "Epoch 44/50\n",
            "34/34 [==============================] - 0s 14ms/step - loss: 0.0906 - accuracy: 0.9699 - val_loss: 0.3153 - val_accuracy: 0.9639\n",
            "Epoch 45/50\n",
            "34/34 [==============================] - 0s 14ms/step - loss: 0.0659 - accuracy: 0.9838 - val_loss: 0.3408 - val_accuracy: 0.9639\n",
            "Epoch 46/50\n",
            "34/34 [==============================] - 0s 14ms/step - loss: 0.1045 - accuracy: 0.9566 - val_loss: 0.2908 - val_accuracy: 0.9639\n",
            "Epoch 47/50\n",
            "34/34 [==============================] - 0s 14ms/step - loss: 0.0517 - accuracy: 0.9760 - val_loss: 0.2862 - val_accuracy: 0.9639\n",
            "Epoch 48/50\n",
            "34/34 [==============================] - 0s 14ms/step - loss: 0.0347 - accuracy: 0.9879 - val_loss: 0.2769 - val_accuracy: 0.9639\n",
            "Epoch 49/50\n",
            "34/34 [==============================] - 0s 14ms/step - loss: 0.0497 - accuracy: 0.9796 - val_loss: 0.2748 - val_accuracy: 0.9639\n",
            "Epoch 50/50\n",
            "34/34 [==============================] - 1s 18ms/step - loss: 0.0309 - accuracy: 0.9937 - val_loss: 0.2535 - val_accuracy: 0.9639\n"
          ],
          "name": "stdout"
        }
      ]
    },
    {
      "cell_type": "code",
      "metadata": {
        "id": "08NoLrtOehCl",
        "colab": {
          "base_uri": "https://localhost:8080/",
          "height": 325
        },
        "outputId": "327c00b9-9899-434d-93f5-d26ef90af71e"
      },
      "source": [
        "loss_train = history.history['accuracy']\n",
        "loss_val = history.history['val_accuracy']\n",
        "epochs = range(1,51)\n",
        "plt.plot(epochs, loss_train, 'g', label='Training accuracy')\n",
        "plt.plot(epochs, loss_val, 'b', label='validation accuracy')\n",
        "plt.title('Training and Validation accuracy')\n",
        "plt.xlabel('Epochs')\n",
        "plt.ylabel('Accuracy')\n",
        "plt.legend()\n",
        "plt.show()"
      ],
      "execution_count": null,
      "outputs": [
        {
          "output_type": "display_data",
          "data": {
            "image/png": "[encoded data removed]",
            "text/plain": [
              "<Figure size 432x288 with 1 Axes>"
            ]
          },
          "metadata": {
            "tags": []
          }
        }
      ]
    },
    {
      "cell_type": "code",
      "metadata": {
        "id": "pEO0xM1toBuQ"
      },
      "source": [
        "#visualize weights\n",
        "#!pip install https://github.com/raghakot/keras-vis/archive/master.zip"
      ],
      "execution_count": null,
      "outputs": []
    },
    {
      "cell_type": "code",
      "metadata": {
        "id": "4Rsi2nqvq24J"
      },
      "source": [
        "model.save('/content/drive/My Drive/Smart Home/BOKE2_VGG-MODEL.h5')"
      ],
      "execution_count": null,
      "outputs": []
    }
  ]
}