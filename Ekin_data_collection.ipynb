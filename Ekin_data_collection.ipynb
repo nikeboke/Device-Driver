{
  "nbformat": 4,
  "nbformat_minor": 0,
  "metadata": {
    "colab": {
      "provenance": [],
      "include_colab_link": true
    },
    "kernelspec": {
      "name": "python3",
      "display_name": "Python 3"
    }
  },
  "cells": [
    {
      "cell_type": "markdown",
      "metadata": {
        "id": "view-in-github",
        "colab_type": "text"
      },
      "source": [
        "<a href=\"https://colab.research.google.com/github/nikeboke/Device-Driver/blob/main/Ekin_data_collection.ipynb\" target=\"_parent\"><img src=\"https://colab.research.google.com/assets/colab-badge.svg\" alt=\"Open In Colab\"/></a>"
      ]
    },
    {
      "cell_type": "markdown",
      "metadata": {
        "id": "wtiy89FgF6ub"
      },
      "source": [
        "Run these blocks in order by clicking on them, and then either clicking to the \"run\" button on the right side of the block, or pressing Command+Enter, or Shift+Enter."
      ]
    },
    {
      "cell_type": "code",
      "metadata": {
        "id": "RN_hNXOyIqkE"
      },
      "source": [
        "from __future__ import print_function\n",
        "import numpy as np\n",
        "import sys\n",
        "import os\n",
        "import random\n",
        "import time"
      ],
      "execution_count": null,
      "outputs": []
    },
    {
      "cell_type": "code",
      "metadata": {
        "id": "tVguJ2yKA44O",
        "colab": {
          "base_uri": "https://localhost:8080/"
        },
        "outputId": "ba8d3d31-1f59-4da4-a6a2-fd255ed4b046"
      },
      "source": [
        "from google.colab import drive\n",
        "drive.mount('/content/drive')"
      ],
      "execution_count": null,
      "outputs": [
        {
          "output_type": "stream",
          "text": [
            "Mounted at /content/drive\n"
          ],
          "name": "stdout"
        }
      ]
    },
    {
      "cell_type": "markdown",
      "metadata": {
        "id": "CiS3z_SB0ITw"
      },
      "source": []
    },
    {
      "cell_type": "code",
      "metadata": {
        "id": "HN687--bZdaF",
        "colab": {
          "base_uri": "https://localhost:8080/"
        },
        "outputId": "a9e12ebc-dab3-4d4d-9d10-0edf18756716"
      },
      "source": [
        "%cd \"/content/drive/My Drive/Ekin_smic_recordings\"\n",
        "!ls"
      ],
      "execution_count": null,
      "outputs": [
        {
          "output_type": "stream",
          "text": [
            "/content/drive/My Drive/Ekin_smic_recordings\n"
          ],
          "name": "stdout"
        }
      ]
    },
    {
      "cell_type": "markdown",
      "metadata": {
        "id": "bILhOtzZGWZa"
      },
      "source": [
        "Don't change the number of gestures per take (num_samples), or the time intervals."
      ]
    },
    {
      "cell_type": "code",
      "metadata": {
        "id": "HAlDIP_CI0nV"
      },
      "source": [
        "gesture_list = ['Swipe Right', 'Swipe Right-Left', 'Circle', 'Tap', 'Scroll Down']\n",
        "num_gestures = len(gesture_list)\n",
        "time_interval_gesture = 2\n",
        "time_interval_wait = 3\n",
        "num_samples = 10\n",
        "selection = 'n'\n",
        "choices = np.zeros(num_samples)"
      ],
      "execution_count": null,
      "outputs": []
    },
    {
      "cell_type": "markdown",
      "metadata": {
        "id": "_vq0yAxwHbLx"
      },
      "source": [
        "Please start your recording device at the same time you start running this cell. The next gesture you should do will be displayed on console, and the time for you to prepare will be displayed alongside it. After you see \"Go!\" on the console, start making the gesture in the specified time interval next to it. After the take ends, you will be asked to decide whether you want to have another take or not. Answering 'n' will end the session. You can find the .txt file that includes your takes at the path \"/content/drive/My Drive/Smart Home/Dataset Collection/datasetV2\", which will have your name in parantheses.\n",
        "\n",
        "\n",
        "1. Run this cell, and immediately start recording.\n",
        "2. Once you recorded 10 gestures, stop recording and start a new one.\n",
        "3. Press 'y', repeat.\n",
        "\n",
        "\n",
        "THINGS NOT TO DO:\n",
        "\n",
        "1. Do not press 'y' and start a new set of gestures in the same recording. Each sound file should contain exactly 10 gestures.\n",
        "2. Do not terminate this cell, and re-run it. Try to do all the recordings in one session.\n"
      ]
    },
    {
      "cell_type": "code",
      "metadata": {
        "id": "ssAHO_rMJ6b2",
        "colab": {
          "base_uri": "https://localhost:8080/"
        },
        "outputId": "cb2f0963-5b62-45a2-c2fc-5c4ed4a87d40"
      },
      "source": [
        "name = input(\"Enter your name:\\t\")\n",
        "print(\"\\n\")\n",
        "f = open(\"gesture sequences ({}).txt\".format(name), \"w+\")\n",
        "take = 1\n",
        "while True:\n",
        "  categories = np.arange(num_samples) % num_gestures\n",
        "  for i in range(num_samples):\n",
        "    if len(categories) == 1:\n",
        "      choice = categories[0]\n",
        "      choices[i] = int(choice)\n",
        "    else:\n",
        "      randIndex = random.randint(0, len(categories)-1)\n",
        "      choice = categories[randIndex]\n",
        "      if i >= 1:\n",
        "        while choices[i-1] == choice:\n",
        "          randIndex = random.randint(0, len(categories)-1)\n",
        "          choice = categories[randIndex]\n",
        "      choices[i] = int(choice)\n",
        "      categories = np.delete(categories, randIndex)\n",
        "  for el in choices:\n",
        "    for i in range(1, time_interval_wait + 1):\n",
        "      print('\\rNext Gesture: {} in {}'.format(gesture_list[int(el)], time_interval_wait - (i-1)), end='')\n",
        "      time.sleep(1)\n",
        "    print('\\rNext Gesture: {}\\n'.format(gesture_list[int(el)]), end='')\n",
        "    for i in range(1, time_interval_gesture + 1):\n",
        "      print('\\rGo!\\t{}'.format(time_interval_gesture - (i-1)), end='')\n",
        "      time.sleep(1)\n",
        "    print('\\n')\n",
        "  f.write(\"Take {}:\\t{}\\n\".format(take, choices))\n",
        "  take += 1\n",
        "  selection = input('Do you want to continue?(y/n)\\t')\n",
        "  while selection != 'y' and selection != 'n':\n",
        "    selection = input('\\nWrong input. Do you want to continue?(y/n)\\t')\n",
        "  if selection == 'n':\n",
        "    break\n",
        "  print('\\n')\n",
        "f.close()"
      ],
      "execution_count": null,
      "outputs": [
        {
          "output_type": "stream",
          "text": [
            "Enter your name:\tekin5\n",
            "\n",
            "\n",
            "Next Gesture: Scroll Down\n",
            "Go!\t1\n",
            "\n",
            "Next Gesture: Swipe Right-Left\n",
            "Go!\t1\n",
            "\n",
            "Next Gesture: Circle\n",
            "Go!\t1\n",
            "\n",
            "Next Gesture: Swipe Right\n",
            "Go!\t1\n",
            "\n",
            "Next Gesture: Scroll Down\n",
            "Go!\t1\n",
            "\n",
            "Next Gesture: Tap\n",
            "Go!\t1\n",
            "\n",
            "Next Gesture: Swipe Right\n",
            "Go!\t1\n",
            "\n",
            "Next Gesture: Tap\n",
            "Go!\t1\n",
            "\n",
            "Next Gesture: Circle\n",
            "Go!\t1\n",
            "\n",
            "Next Gesture: Swipe Right-Left\n",
            "Go!\t1\n",
            "\n",
            "Do you want to continue?(y/n)\tn\n"
          ],
          "name": "stdout"
        }
      ]
    },
    {
      "cell_type": "code",
      "metadata": {
        "id": "zCyiqQKogNs2"
      },
      "source": [],
      "execution_count": null,
      "outputs": []
    }
  ]
}